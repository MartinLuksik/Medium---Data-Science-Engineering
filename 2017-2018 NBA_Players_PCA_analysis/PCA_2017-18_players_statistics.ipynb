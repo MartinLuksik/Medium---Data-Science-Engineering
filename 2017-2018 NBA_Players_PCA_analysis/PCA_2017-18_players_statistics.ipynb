{
 "cells": [
  {
   "cell_type": "code",
   "execution_count": 1,
   "metadata": {},
   "outputs": [],
   "source": [
    "import pandas as pd\n",
    "import numpy as np\n",
    "import scipy as sp\n",
    "import plotly\n",
    "import plotly.plotly as py\n",
    "import plotly.figure_factory as ff\n",
    "from plotly.graph_objs import *\n",
    "import plotly.tools as tls\n",
    "\n",
    "#API plotly, if you do not have an account -> go to https://plot.ly\n",
    "plotly.tools.set_credentials_file(username='xxxxxxx', api_key='xxxxxxxxxx')\n",
    "\n",
    "#loading dataset\n",
    "df = pd.read_excel('2017-18_players_statistics.xlsx')\n",
    "\n",
    "#adding a feature where a players name is followed by the team he plays for\n",
    "df['player_team'] = (df['PLAYER'].astype(str) + (' - ')) + df['TEAM']\n",
    "print(df.head())\n",
    "print(list(df))"
   ]
  },
  {
   "cell_type": "code",
   "execution_count": 44,
   "metadata": {
    "collapsed": true
   },
   "outputs": [],
   "source": [
    "# X represents all the independent variables and y represent the dependent variable, in our case, the name of the player\n",
    "X = df.drop(['PLAYER', 'TEAM', 'player_team'], axis=1)\n",
    "y = df['player_team']\n",
    "#scaling the data in order to improve the PCA performance\n",
    "from sklearn.preprocessing import StandardScaler\n",
    "X_std = StandardScaler().fit_transform(X)\n",
    "#creating PCA of two components and fitting the model\n",
    "from sklearn.decomposition import PCA as sklearnPCA\n",
    "sklearn_pca = sklearnPCA(n_components=2)\n",
    "Y_sklearn = sklearn_pca.fit_transform(X_std)"
   ]
  },
  {
   "cell_type": "code",
   "execution_count": 1,
   "metadata": {
    "collapsed": false
   },
   "outputs": [],
   "source": [
    "#implementing function available from https://plot.ly/ipython-notebooks/principal-component-analysis/\n",
    "name_teams = list(df['player_team'])\n",
    "\n",
    "traces = []\n",
    "for name in name_teams:\n",
    "\n",
    "    trace = Scatter(\n",
    "        x=Y_sklearn[y==name,0],\n",
    "        y=Y_sklearn[y==name,1],\n",
    "        mode='markers',\n",
    "        name=name,\n",
    "        marker=Marker(\n",
    "            size=12,\n",
    "            line=Line(\n",
    "                color='rgba(217, 217, 217, 0.14)',\n",
    "                width=0.5),\n",
    "            opacity=0.8))\n",
    "    traces.append(trace)\n",
    "data = Data(traces)\n",
    "layout = Layout(xaxis=XAxis(title='PC1', showline=False),\n",
    "                yaxis=YAxis(title='PC2', showline=False))\n",
    "fig = Figure(data=data, layout=layout)\n",
    "py.iplot(fig)"
   ]
  },
  {
   "cell_type": "code",
   "execution_count": 1,
   "metadata": {},
   "outputs": [],
   "source": [
    "#plotting the scale for the space interpretation\n",
    "%matplotlib inline\n",
    "import matplotlib.pyplot as plt\n",
    "\n",
    "# #### Plotting the magnitude of each feature value for the first two principal components\n",
    "X.feature_names = list(X)\n",
    "fig = plt.figure(figsize=(10, 4))\n",
    "plt.imshow(sklearn_pca.components_, interpolation = 'none', cmap = 'gray')\n",
    "feature_names = list(X.feature_names)\n",
    "\n",
    "plt.gca().set_xticks(np.arange(-.5, len(X.feature_names)));\n",
    "plt.gca().set_yticks(np.arange(0.5, 2));\n",
    "plt.gca().set_xticklabels(X.feature_names, rotation=90, ha='left', fontsize=12);\n",
    "plt.gca().set_yticklabels(['First PC', 'Second PC'], va='bottom', fontsize=12);\n",
    "\n",
    "plt.colorbar(orientation='horizontal', ticks=[sklearn_pca.components_.min(), 0, \n",
    "                                              sklearn_pca.components_.max()], pad=0.65)"
   ]
  },
  {
   "cell_type": "code",
   "execution_count": 49,
   "metadata": {
    "collapsed": false
   },
   "outputs": [],
   "source": [
    "#The PCA analysis has revealed interesting findings to be further investigated:\n",
    "    #James Harden is not surrounded by other players -> perhaps a reason why he got the mvp this year?\n",
    "    #So far, he seems to be the most unique player in this season. Let's investigate further whether it is because of positive or negative statistics:\n",
    "    # subset only the few players who are closes to his statistics and running PCA again in order to have a closer look on the results of the two components "
   ]
  },
  {
   "cell_type": "code",
   "execution_count": 1,
   "metadata": {},
   "outputs": [],
   "source": [
    "#subset of relevant players\n",
    "players_close_to_harden = ['Kevin Durant - GSW','James Harden - HOU', 'Russell Westbrook - OKC', 'Stephen Curry - GSW', 'LeBron James - CLE', 'Damian Lillard - POR']\n",
    "df3 = df.loc[df['player_team'].isin(players_close_to_harden)]\n",
    "df3 = df3.reset_index(drop=True)\n",
    "df3"
   ]
  },
  {
   "cell_type": "code",
   "execution_count": 23,
   "metadata": {},
   "outputs": [],
   "source": [
    "# X represents all the independent variables and y represent the dependent variable, in our case, the name of the player\n",
    "X = df3.drop(['PLAYER', 'TEAM', 'player_team', 'AGE'], axis=1)\n",
    "y = df3['player_team']\n",
    "\n",
    "#scaling the data in order to improve the PCA performance\n",
    "from sklearn.preprocessing import StandardScaler\n",
    "X_std = StandardScaler().fit_transform(X)\n",
    "\n",
    "#creating PCA of two components and fitting the model\n",
    "from sklearn.decomposition import PCA as sklearnPCA\n",
    "sklearn_pca = sklearnPCA(n_components=2)\n",
    "Y_sklearn = sklearn_pca.fit_transform(X_std)"
   ]
  },
  {
   "cell_type": "code",
   "execution_count": 1,
   "metadata": {},
   "outputs": [],
   "source": [
    "#implementing function available from https://plot.ly/ipython-notebooks/principal-component-analysis/\n",
    "name_teams = list(df3['player_team'])\n",
    "\n",
    "traces = []\n",
    "for name in name_teams:\n",
    "\n",
    "    trace = Scatter(\n",
    "        x=Y_sklearn[y==name,0],\n",
    "        y=Y_sklearn[y==name,1],\n",
    "        mode='markers',\n",
    "        name=name,\n",
    "        marker=Marker(\n",
    "            size=12,\n",
    "            line=Line(\n",
    "                color='rgba(217, 217, 217, 0.14)',\n",
    "                width=0.5),\n",
    "            opacity=0.8))\n",
    "    traces.append(trace)\n",
    "data = Data(traces)\n",
    "layout = Layout(xaxis=XAxis(title='PC1', showline=False),\n",
    "                yaxis=YAxis(title='PC2', showline=False))\n",
    "fig = Figure(data=data, layout=layout)\n",
    "py.iplot(fig)"
   ]
  },
  {
   "cell_type": "code",
   "execution_count": 1,
   "metadata": {},
   "outputs": [],
   "source": [
    "#plotting the scale for the space interpretation\n",
    "%matplotlib inline\n",
    "import matplotlib.pyplot as plt\n",
    "\n",
    "# #### Plotting the magnitude of each feature value for the first two principal components\n",
    "X.feature_names = list(X)\n",
    "fig = plt.figure(figsize=(10, 4))\n",
    "plt.imshow(sklearn_pca.components_, interpolation = 'none', cmap = 'gray')\n",
    "feature_names = list(X.feature_names)\n",
    "\n",
    "plt.gca().set_xticks(np.arange(-.5, len(X.feature_names)));\n",
    "plt.gca().set_yticks(np.arange(0.5, 2));\n",
    "plt.gca().set_xticklabels(X.feature_names, rotation=90, ha='left', fontsize=12);\n",
    "plt.gca().set_yticklabels(['First PC', 'Second PC'], va='bottom', fontsize=12);\n",
    "\n",
    "plt.colorbar(orientation='horizontal', ticks=[sklearn_pca.components_.min(), 0, \n",
    "                                              sklearn_pca.components_.max()], pad=0.65)"
   ]
  }
 ],
 "metadata": {
  "kernelspec": {
   "display_name": "Python 2",
   "language": "python",
   "name": "python2"
  },
  "language_info": {
   "codemirror_mode": {
    "name": "ipython",
    "version": 2
   },
   "file_extension": ".py",
   "mimetype": "text/x-python",
   "name": "python",
   "nbconvert_exporter": "python",
   "pygments_lexer": "ipython2",
   "version": "2.7.6"
  }
 },
 "nbformat": 4,
 "nbformat_minor": 0
}

{
 "cells": [
  {
   "cell_type": "code",
   "execution_count": 5,
   "metadata": {
    "collapsed": true
   },
   "outputs": [],
   "source": [
    "get_ipython().magic('matplotlib notebook')\n",
    "import pandas as pd\n",
    "import numpy as np\n",
    "#Load Data Set with Lebron's statistics\n",
    "df = pd.read_csv('lebron_gameW_pred.csv', sep=';')\n",
    "df['W'] = np.where(df['W'] == True, 1, 0)"
   ]
  },
  {
   "cell_type": "code",
   "execution_count": 6,
   "metadata": {
    "collapsed": true
   },
   "outputs": [
    {
     "name": "stdout",
     "output_type": "stream",
     "text": [
      "W                                          int32\nLebron James:points                        int64\nLebron James:assists                       int64\nLebron James:blocks                        int64\nLebron James:defensive rebounds            int64\nLebron James:field goals attempted         int64\nLebron James:field goals made              int64\nLebron James:fouls                         int64\nLebron James:free throws attempted         int64\nLebron James:free throws made              int64\nLebron James:minutes                     float64\nLebron James:offensive rebounds            int64\nLebron James:rebounds                      int64\nLebron James:steals                        int64\nLebron James:three pointers attempted      int64\nLebron James:three pointers made           int64\nLebron James:turnovers                     int64\ndtype: object\n"
     ]
    }
   ],
   "source": [
    "#see the lenght of the datasets, features, and data types\n",
    "len(df)\n",
    "print(df.dtypes)"
   ]
  },
  {
   "cell_type": "code",
   "execution_count": 8,
   "metadata": {},
   "outputs": [
    {
     "name": "stderr",
     "output_type": "stream",
     "text": [
      "C:\\Users\\mluksik\\PycharmProjects\\googleapi\\venv\\lib\\site-packages\\statsmodels\\stats\\outliers_influence.py:181: RuntimeWarning: divide by zero encountered in double_scalars\n  vif = 1. / (1. - r_squared_i)\n"
     ]
    },
    {
     "data": {
      "text/plain": [
       "const                                    63.799333\nLebron James:points                            inf\nLebron James:assists                      1.090183\nLebron James:blocks                       1.027010\nLebron James:defensive rebounds                inf\nLebron James:field goals attempted        3.697407\nLebron James:field goals made                  inf\nLebron James:fouls                        1.078339\nLebron James:free throws attempted        7.911521\nLebron James:free throws made                  inf\nLebron James:minutes                      1.748442\nLebron James:offensive rebounds                inf\nLebron James:rebounds                          inf\nLebron James:steals                       1.026063\nLebron James:three pointers attempted     3.260086\nLebron James:three pointers made               inf\nLebron James:turnovers                    1.069203\ndtype: float64"
      ]
     },
     "execution_count": 8,
     "metadata": {},
     "output_type": "execute_result"
    }
   ],
   "source": [
    "#checking on multicollinearity \n",
    "df1 = df.drop(['W'], axis=1)\n",
    "\n",
    "import statsmodels.api as sm\n",
    "from statsmodels.stats.outliers_influence import variance_inflation_factor\n",
    "from statsmodels.tools.tools import add_constant\n",
    "\n",
    "# Before checking the multicollinearity, adding the constant into the model\n",
    "X = add_constant(df1)\n",
    "pd.Series([variance_inflation_factor(X.values, i)\n",
    "               for i in range(X.shape[1])],\n",
    "              index=X.columns)"
   ]
  },
  {
   "cell_type": "code",
   "execution_count": 10,
   "metadata": {},
   "outputs": [
    {
     "data": {
      "text/plain": [
       "const                                    63.560531\nLebron James:points                       2.755723\nLebron James:assists                      1.082930\nLebron James:blocks                       1.026304\nLebron James:field goals attempted        2.800347\nLebron James:fouls                        1.076662\nLebron James:free throws attempted        1.512867\nLebron James:minutes                      1.736238\nLebron James:rebounds                     1.140668\nLebron James:steals                       1.024552\nLebron James:three pointers attempted     1.345486\nLebron James:turnovers                    1.063781\ndtype: float64"
      ]
     },
     "execution_count": 10,
     "metadata": {},
     "output_type": "execute_result"
    }
   ],
   "source": [
    "# Dropping out conflicting features based on the previous results\n",
    "# One by one -> drop one feature and then check again as long as a multicollinearity is present\n",
    "df1 = df.drop(['W', 'Lebron James:three pointers made', 'Lebron James:defensive rebounds', 'Lebron James:offensive rebounds', 'Lebron James:field goals made', 'Lebron James:free throws made'], axis=1)\n",
    "\n",
    "# The final pick of features and the results of multicollinearity check\n",
    "X = add_constant(df1)\n",
    "pd.Series([variance_inflation_factor(X.values, i)\n",
    "               for i in range(X.shape[1])],\n",
    "              index=X.columns)"
   ]
  },
  {
   "cell_type": "code",
   "execution_count": 12,
   "metadata": {},
   "outputs": [],
   "source": [
    "### Creating Validation scores on 4 folds of train and test sets in order to prevent overfitting while controlling the C parameter of Logistic Regression:\n",
    "    ### 4 splits ensure that all the data points will be tested\n",
    "        ### later, the 75:25 (train set : test set) will be used\n",
    "        \n",
    "from sklearn.model_selection import validation_curve\n",
    "from sklearn.linear_model import LogisticRegression\n",
    "\n",
    "### Splitting the data on dependent and independet variables\n",
    "X = df1\n",
    "y = df['W']\n",
    "\n",
    "### Testing the validation scores on a range of C parameters in order to find a suitable \n",
    "param_range = np.array([0.0001, 0.001, 0.01, 0.1, 1, 10, 100, 1000])\n",
    "train_scores, test_scores = validation_curve(LogisticRegression(), X, y,\n",
    "                                            param_name='C',\n",
    "                                            param_range=param_range, cv=4)"
   ]
  },
  {
   "cell_type": "code",
   "execution_count": 13,
   "metadata": {
    "collapsed": false
   },
   "outputs": [
    {
     "data": {
      "image/png": "[encoded data removed]",
      "text/plain": [
       "<Figure size 432x288 with 1 Axes>"
      ]
     },
     "metadata": {},
     "output_type": "display_data"
    }
   ],
   "source": [
    "# This code based on scikit-learn validation_plot example\n",
    "# See:  http://scikit-learn.org/stable/auto_examples/model_selection/plot_validation_curve.html\n",
    "%matplotlib inline\n",
    "import matplotlib.pyplot as plt\n",
    "\n",
    "plt.figure()\n",
    "\n",
    "train_scores_mean = np.mean(train_scores, axis=1)\n",
    "train_scores_std = np.std(train_scores, axis=1)\n",
    "test_scores_mean = np.mean(test_scores, axis=1)\n",
    "test_scores_std = np.std(test_scores, axis=1)\n",
    "\n",
    "plt.title('Validation Curve with Logistic Regression')\n",
    "plt.xlabel('C parameter')\n",
    "plt.ylabel('Score')\n",
    "plt.ylim(0.0, 1.1)\n",
    "lw = 1\n",
    "\n",
    "plt.semilogx(param_range, train_scores_mean, label='Training score',\n",
    "            color='darkorange', lw=lw)\n",
    "\n",
    "plt.fill_between(param_range, train_scores_mean - train_scores_std,\n",
    "                train_scores_mean + train_scores_std, alpha=0.2,\n",
    "                color='darkorange', lw=lw)\n",
    "\n",
    "plt.semilogx(param_range, test_scores_mean, label='Cross-validation score',\n",
    "            color='navy', lw=lw)\n",
    "\n",
    "plt.fill_between(param_range, test_scores_mean - test_scores_std,\n",
    "                test_scores_mean + test_scores_std, alpha=0.2,\n",
    "                color='navy', lw=lw)\n",
    "\n",
    "plt.legend(loc='best')\n",
    "plt.show()"
   ]
  },
  {
   "cell_type": "code",
   "execution_count": 147,
   "metadata": {},
   "outputs": [],
   "source": [
    "# From the Validation Curve, we can see that the data set doesn't tend to significantly over-fit in any stage of the validation.\n",
    "# When the C parameter = 1, the Cross-Validation score has the lowest spread. \n",
    "# But we should also pay attention to the results when the C parameter = 0.001, and investigate the performance further."
   ]
  },
  {
   "cell_type": "code",
   "execution_count": 16,
   "metadata": {},
   "outputs": [
    {
     "name": "stdout",
     "output_type": "stream",
     "text": [
      "For C parameter = 0.001:\nCross-validation (accuracy) [0.72254335 0.74127907 0.72383721 0.70348837]\nCross-validation (AUC) [0.75618441 0.77235618 0.75234479 0.73647238]\nCross-validation (recall) [0.83043478 0.97379913 0.97816594 0.94759825]\nCross-validation (precesion) [0.77016129 0.72875817 0.7133758  0.70684039]\nFor C parameter = 1:\nCross-validation (accuracy) [0.70231214 0.76162791 0.72383721 0.72093023]\nCross-validation (AUC) [0.75532234 0.81594836 0.75762294 0.74881337]\nCross-validation (recall) [0.71304348 0.90829694 0.90393013 0.90829694]\n"
     ]
    },
    {
     "name": "stdout",
     "output_type": "stream",
     "text": [
      "Cross-validation (precesion) [0.8159204  0.7732342  0.73928571 0.73498233]\nFor C parameter = 10:\nCross-validation (accuracy) [0.69075145 0.76453488 0.72383721 0.70930233]\nCross-validation (AUC) [0.74977511 0.81837858 0.76210366 0.74885134]\nCross-validation (recall) [0.69130435 0.90829694 0.90393013 0.90393013]\nCross-validation (precesion) [0.81538462 0.7761194  0.73928571 0.72631579]\n"
     ]
    }
   ],
   "source": [
    "# Based on the results, let's further investigate the accuracy, AUC, recall and precision.\n",
    "\n",
    "##### Cross-validation with the test for the variance of C-parameter (narrowed down to tree options based on the Validation Curve.\n",
    "from sklearn.model_selection import cross_val_score\n",
    "\n",
    "for c_param in [0.001, 1, 10]:\n",
    "    clf = LogisticRegression(C=c_param)\n",
    "\n",
    "    # accuracy is the default scoring metric\n",
    "    print('For C parameter = {0}'.format(c_param) + ':')\n",
    "    print('Cross-validation (accuracy)', cross_val_score(clf, X, y, cv=4))\n",
    "    # use AUC as scoring metric\n",
    "    print('Cross-validation (AUC)', cross_val_score(clf, X, y, cv=4, scoring = 'roc_auc'))\n",
    "    # use recall as scoring metric\n",
    "    print('Cross-validation (recall)', cross_val_score(clf, X, y, cv=4, scoring = 'recall'))\n",
    "       # use recall as scoring metric\n",
    "    print('Cross-validation (precesion)', cross_val_score(clf, X, y, cv=4, scoring = 'precision'))"
   ]
  },
  {
   "cell_type": "code",
   "execution_count": 149,
   "metadata": {},
   "outputs": [],
   "source": [
    "# As we can see, the performance with the C = 10 is performing worse than C=1, \n",
    "    # -> the first fold suggest that the accuracy and also recall is bellow 0.7, while the rest of the fold is nearly identical.\n",
    "\n",
    "# Comparing C = 0.001 and C=1:\n",
    "#  -> the accuracy is played by the C=1 (2 folds are better, 1 equal and 1 worse)\n",
    "#  -> Area Under the Curve is also better for C=1\n",
    "#  -> The recall is much better in all folds for C = 0.001\n",
    "    # however, that come with the price of lower precision. Yes, we aim for high recall, but... \n",
    "    # as the precission would often decrease under the level of 75%, we could be dealing with the\n",
    "    # fact the model becomes a dummy classifier and detects (almost) everything as a W\n",
    "    # this is not the desired outcome of the model, and therefore C=1 is a better option\n",
    "\n",
    "# The goals it to create a classifier that will compute the probability of a Win (positive class) based on Lebron James' statistics from the game,\n",
    "    # therefore I'd like to tune the model the way that the threshold for the W class is low (higher recall than precision)"
   ]
  },
  {
   "cell_type": "code",
   "execution_count": 17,
   "metadata": {},
   "outputs": [
    {
     "name": "stdout",
     "output_type": "stream",
     "text": [
      "Logistic regression classifier (default settings)\n [[ 53  63]\n [ 30 199]]\nAccuracy: 0.73\nPrecision: 0.76\nRecall: 0.87\n"
     ]
    }
   ],
   "source": [
    "# Let's investigate the Confusion Matrix, Accuracy, Precision, and Recall for C=1\n",
    "from sklearn.metrics import confusion_matrix\n",
    "from sklearn.metrics import accuracy_score, precision_score, recall_score, f1_score\n",
    "from sklearn.model_selection import train_test_split\n",
    "\n",
    "X_train, X_test, y_train, y_test = train_test_split(X, y, random_state=0)\n",
    "\n",
    "clf = LogisticRegression(C=1).fit(X_train, y_train)\n",
    "\n",
    "clf_predicted = clf.predict(X_test)\n",
    "confusion = confusion_matrix(y_test, clf_predicted)\n",
    "\n",
    "print('Logistic regression classifier (default settings)\\n', confusion)\n",
    "\n",
    "print('Accuracy: {:.2f}'.format(accuracy_score(y_test, clf_predicted)))\n",
    "print('Precision: {:.2f}'.format(precision_score(y_test, clf_predicted)))\n",
    "print('Recall: {:.2f}'.format(recall_score(y_test, clf_predicted)))"
   ]
  },
  {
   "cell_type": "code",
   "execution_count": 151,
   "metadata": {},
   "outputs": [
    {
     "name": "stderr",
     "output_type": "stream",
     "text": [
      "C:\\Users\\mluksik\\PycharmProjects\\googleapi\\venv\\lib\\site-packages\\matplotlib\\cbook\\deprecation.py:107: MatplotlibDeprecationWarning: Adding an axes using the same arguments as a previous axes currently reuses the earlier instance.  In a future version, a new instance will always be created and returned.  Meanwhile, this warning can be suppressed, and the future behavior ensured, by passing a unique label to each axes instance.\n  warnings.warn(message, mplDeprecation, stacklevel=1)\n"
     ]
    },
    {
     "data": {
      "image/png": "[encoded data removed]",
      "text/plain": [
       "<Figure size 432x288 with 1 Axes>"
      ]
     },
     "metadata": {},
     "output_type": "display_data"
    }
   ],
   "source": [
    "# ### Precision-recall curves\n",
    "from sklearn.metrics import precision_recall_curve\n",
    "\n",
    "# ### Decision functions\n",
    "y_scores_lr = clf.fit(X_train, y_train).decision_function(X_test)\n",
    "y_score_list = list(zip(y_test[0:20], y_scores_lr[0:20]))\n",
    "\n",
    "\n",
    "precision, recall, thresholds = precision_recall_curve(y_test, y_scores_lr)\n",
    "closest_zero = np.argmin(np.abs(thresholds))\n",
    "closest_zero_p = precision[closest_zero]\n",
    "closest_zero_r = recall[closest_zero]\n",
    "\n",
    "plt.figure()\n",
    "plt.xlim([0.0, 1.01])\n",
    "plt.ylim([0.0, 1.01])\n",
    "plt.plot(precision, recall, label='Precision-Recall Curve')\n",
    "plt.plot(closest_zero_p, closest_zero_r, 'o', markersize = 12, fillstyle = 'none', c='r', mew=3)\n",
    "plt.xlabel('Precision', fontsize=16)\n",
    "plt.ylabel('Recall', fontsize=16)\n",
    "plt.axes().set_aspect('equal')\n",
    "plt.show()"
   ]
  },
  {
   "cell_type": "code",
   "execution_count": 18,
   "metadata": {},
   "outputs": [],
   "source": [
    "# The Recall and Precision trade-off is captured above. The current state of the model displayed by the red circle."
   ]
  },
  {
   "cell_type": "code",
   "execution_count": 19,
   "metadata": {},
   "outputs": [
    {
     "name": "stdout",
     "output_type": "stream",
     "text": [
      "C = 0.001  accuracy = 0.728   AUC = 0.751\nC = 1.000  accuracy = 0.730   AUC = 0.774\n"
     ]
    },
    {
     "name": "stderr",
     "output_type": "stream",
     "text": [
      "C:\\Users\\mluksik\\PycharmProjects\\googleapi\\venv\\lib\\site-packages\\matplotlib\\cbook\\deprecation.py:107: MatplotlibDeprecationWarning: Adding an axes using the same arguments as a previous axes currently reuses the earlier instance.  In a future version, a new instance will always be created and returned.  Meanwhile, this warning can be suppressed, and the future behavior ensured, by passing a unique label to each axes instance.\n  warnings.warn(message, mplDeprecation, stacklevel=1)\n"
     ]
    },
    {
     "data": {
      "image/png": "[encoded data removed]",
      "text/plain": [
       "<Figure size 432x288 with 1 Axes>"
      ]
     },
     "metadata": {},
     "output_type": "display_data"
    }
   ],
   "source": [
    "# Plotting the ROC curves for C=0,001 and C = 1\n",
    "from sklearn.metrics import roc_curve, auc\n",
    "X_train, X_test, y_train, y_test = train_test_split(X, y, random_state=0)\n",
    "\n",
    "plt.figure()\n",
    "plt.xlim([-0.01, 1.00])\n",
    "plt.ylim([-0.01, 1.01])\n",
    "for g in [0.001, 1]:\n",
    "    clf = LogisticRegression(C=g).fit(X_train, y_train)\n",
    "    y_score_svm = clf.decision_function(X_test)\n",
    "    fpr_svm, tpr_svm, _ = roc_curve(y_test, y_score_svm)\n",
    "    roc_auc_svm = auc(fpr_svm, tpr_svm)\n",
    "    accuracy_svm = clf.score(X_test, y_test)\n",
    "    print(\"C = {:.3f}  accuracy = {:.3f}   AUC = {:.3f}\".format(g, accuracy_svm,\n",
    "                                                                    roc_auc_svm))\n",
    "    plt.plot(fpr_svm, tpr_svm, lw=3, alpha=0.7,\n",
    "             label='(C = {:0.3f}, area = {:0.3f})'.format(g, roc_auc_svm))\n",
    "\n",
    "plt.xlabel('False Positive Rate', fontsize=16)\n",
    "plt.ylabel('True Positive Rate (Recall)', fontsize=16)\n",
    "plt.plot([0, 1], [0, 1], color='k', lw=0.5, linestyle='--')\n",
    "plt.legend(loc=\"lower right\", fontsize=11)\n",
    "plt.title('ROC curve', fontsize=16)\n",
    "plt.axes().set_aspect('equal')\n",
    "\n",
    "plt.show()"
   ]
  },
  {
   "cell_type": "code",
   "execution_count": 20,
   "metadata": {},
   "outputs": [],
   "source": [
    "#The AUC for C=1 is higher, which also supports the decision to build the model this way."
   ]
  },
  {
   "cell_type": "code",
   "execution_count": 27,
   "metadata": {},
   "outputs": [
    {
     "name": "stdout",
     "output_type": "stream",
     "text": [
      "Probability of Cavs winning the G1:  [[0.09273245 0.90726755]]\nProbability of Cavs winning the G2:  [[7.36182468e-04 9.99263818e-01]]\nProbability of Cavs winning the G3:  [[0.3253793 0.6746207]]\nProbability of Cavs winning the G4:  [[0.01366418 0.98633582]]\n"
     ]
    }
   ],
   "source": [
    "# As the choice of the C parameter was done.\n",
    "# The model complexity is not leading to over/under fitting => tested on 4 folds. \n",
    "# Let's fit the model to all the data points available in order to achieve the best performance\n",
    "  # -> the number of observation has nothing to do with over fitting -> that is problem of the model complexity\n",
    "\n",
    "clf = LogisticRegression(C=1).fit(X, y)\n",
    "\n",
    "# Creating new observations from the NBA Finals Game 1,2,3,4 (previously not seen in the data set) -> and predict the W probability for these games.\n",
    "# G1:\n",
    "LBJ_stats_first_game_1 = {'Lebron James:points': [51],\n",
    "                        'Lebron James:assists': [8],\n",
    "                        'Lebron James:blocks':[1],\n",
    "                        'Lebron James:field goals attempted': [32],\n",
    "                        'Lebron James:minutes': [48],\n",
    "                        'Lebron James:fouls':[2],\n",
    "                        'Lebron James:steals': [1],\n",
    "                        'Lebron James:three pointers attempted': [7],\n",
    "                        'Lebron James:turnovers': [5],\n",
    "                        'Lebron James:free throws attempted':[11],\n",
    "                        'Lebron James:rebounds':[8]}\n",
    "\n",
    "g1 = pd.DataFrame(data=LBJ_stats_first_game_1)\n",
    "y_predict1 = clf.predict_proba(g1)\n",
    "#G2:\n",
    "LBJ_stats_first_game_2 = {'Lebron James:points': [29],\n",
    "                        'Lebron James:assists': [13],\n",
    "                        'Lebron James:field goals attempted': [20],\n",
    "                        'Lebron James:blocks':[0],\n",
    "                        'Lebron James:minutes': [44],\n",
    "                        'Lebron James:fouls':[2],\n",
    "                        'Lebron James:steals': [2],\n",
    "                        'Lebron James:three pointers attempted': [4],\n",
    "                        'Lebron James:turnovers': [5],\n",
    "                        'Lebron James:free throws attempted':[9],\n",
    "                        'Lebron James:rebounds':[9]}\n",
    "\n",
    "g2 = pd.DataFrame(data=LBJ_stats_first_game_2)\n",
    "y_predict2 = clf.predict_proba(g2)\n",
    "#G3:\n",
    "LBJ_stats_first_game_3 = {'Lebron James:points': [33],\n",
    "                        'Lebron James:assists': [11],\n",
    "                        'Lebron James:blocks':[2],                          \n",
    "                        'Lebron James:field goals attempted': [28],\n",
    "                        'Lebron James:minutes': [47],\n",
    "                        'Lebron James:fouls':[2],\n",
    "                        'Lebron James:steals': [2],\n",
    "                        'Lebron James:three pointers attempted': [6],\n",
    "                        'Lebron James:turnovers': [4],\n",
    "                        'Lebron James:free throws attempted':[7],\n",
    "                        'Lebron James:rebounds':[10]}\n",
    "\n",
    "g3 = pd.DataFrame(data=LBJ_stats_first_game_3)\n",
    "y_predict3 = clf.predict_proba(g3)\n",
    "\n",
    "#G4:\n",
    "LBJ_stats_first_game_4 = {'Lebron James:points': [23],\n",
    "                        'Lebron James:assists': [8],\n",
    "                        'Lebron James:field goals attempted': [13],                          \n",
    "                        'Lebron James:blocks':[1],\n",
    "                        'Lebron James:minutes': [41],\n",
    "                        'Lebron James:fouls':[5],\n",
    "                        'Lebron James:steals': [0],\n",
    "                        'Lebron James:three pointers attempted': [1],\n",
    "                        'Lebron James:turnovers': [6],\n",
    "                        'Lebron James:free throws attempted':[11],\n",
    "                        'Lebron James:rebounds':[7]}\n",
    "\n",
    "g4 = pd.DataFrame(data=LBJ_stats_first_game_4)\n",
    "y_predict4 = clf.predict_proba(g4)\n",
    "\n",
    "print('Probability of Cavs winning the G1: ', y_predict1)\n",
    "print('Probability of Cavs winning the G2: ', y_predict2)\n",
    "print('Probability of Cavs winning the G3: ', y_predict3)\n",
    "print('Probability of Cavs winning the G4: ', y_predict4)"
   ]
  },
  {
   "cell_type": "code",
   "execution_count": 28,
   "metadata": {},
   "outputs": [],
   "source": [
    "# Obviously, the model was 4 times wrong -> as we know, Cavaliers lost all the 4 games.\n",
    "# What does this mean? Basically just two things. And perhaps, most of us knew this all along:\n",
    "    # 1.: Lebron James had done enough to increase the chance of the W in all 4 games, and it wasn't his fault that Cleveland had lost.\n",
    "    # 2.: The model is not good enough to get close to the real probability. It simply needs more data to learn. \n",
    "\n",
    "# So let's feed it with one more feature -> the quality of the opponents Team."
   ]
  },
  {
   "cell_type": "code",
   "execution_count": 29,
   "metadata": {},
   "outputs": [],
   "source": [
    "# For model regularization, we might use one of many approaches... starting with Lasso, Ridge regression... ending with Recursive Feature Elimination with Scikit Learn.\n",
    "# Also, we can create a decision tree and see the feature importance and eliminate few features this way.\n",
    "# #### Creating a Decision Tree Classifier\n",
    "\n",
    "%matplotlib inline\n",
    "from sklearn.tree import DecisionTreeClassifier\n",
    "\n",
    "clf = DecisionTreeClassifier(max_depth = 4, min_samples_leaf = 8,\n",
    "                            random_state = 0).fit(X, y)"
   ]
  },
  {
   "cell_type": "code",
   "execution_count": 31,
   "metadata": {},
   "outputs": [
    {
     "data": {
      "image/png": "[encoded data removed]",
      "text/plain": [
       "<Figure size 800x320 with 1 Axes>"
      ]
     },
     "metadata": {},
     "output_type": "display_data"
    },
    {
     "name": "stdout",
     "output_type": "stream",
     "text": [
      "Feature importances: [0.28638496 0.20734396 0.         0.05182253 0.         0.\n 0.21628852 0.05038839 0.         0.08532076 0.10245087]\n['Lebron James:points', 'Lebron James:assists', 'Lebron James:blocks', 'Lebron James:field goals attempted', 'Lebron James:fouls', 'Lebron James:free throws attempted', 'Lebron James:minutes', 'Lebron James:rebounds', 'Lebron James:steals', 'Lebron James:three pointers attempted', 'Lebron James:turnovers']\n"
     ]
    }
   ],
   "source": [
    "# Plotting the feature importance and eliminating features from the next model: blocks, fouls, free throws attempted, steals.\n",
    "def plot_feature_importances(clf, feature_names):\n",
    "    c_features = len(feature_names)\n",
    "    plt.barh(range(c_features), clf.feature_importances_)\n",
    "    plt.xlabel(\"Feature importance\")\n",
    "    plt.ylabel(\"Feature name\")\n",
    "    plt.yticks(np.arange(c_features), feature_names)\n",
    "\n",
    "plt.figure(figsize=(10,4), dpi=80)\n",
    "plot_feature_importances(clf, list(X_train))\n",
    "plt.show()\n",
    "\n",
    "print('Feature importances: {}'.format(clf.feature_importances_))\n",
    "print(list(X_train))"
   ]
  },
  {
   "cell_type": "code",
   "execution_count": 83,
   "metadata": {},
   "outputs": [],
   "source": [
    ""
   ]
  },
  {
   "cell_type": "code",
   "execution_count": 71,
   "metadata": {},
   "outputs": [],
   "source": [
    ""
   ]
  },
  {
   "cell_type": "code",
   "execution_count": 71,
   "metadata": {},
   "outputs": [],
   "source": [
    ""
   ]
  },
  {
   "cell_type": "code",
   "execution_count": 71,
   "metadata": {},
   "outputs": [],
   "source": [
    ""
   ]
  },
  {
   "cell_type": "code",
   "execution_count": 90,
   "metadata": {},
   "outputs": [],
   "source": [
    ""
   ]
  },
  {
   "cell_type": "code",
   "execution_count": 90,
   "metadata": {},
   "outputs": [],
   "source": [
    "\n"
   ]
  },
  {
   "cell_type": "code",
   "execution_count": 90,
   "metadata": {},
   "outputs": [],
   "source": [
    ""
   ]
  },
  {
   "cell_type": "code",
   "execution_count": 90,
   "metadata": {},
   "outputs": [],
   "source": [
    ""
   ]
  },
  {
   "cell_type": "code",
   "execution_count": 90,
   "metadata": {},
   "outputs": [],
   "source": []
  },
  {
   "cell_type": "code",
   "execution_count": null,
   "metadata": {},
   "outputs": [],
   "source": []
  }
 ],
 "metadata": {
  "kernelspec": {
   "display_name": "Python 2",
   "language": "python",
   "name": "python2"
  },
  "language_info": {
   "codemirror_mode": {
    "name": "ipython",
    "version": 2
   },
   "file_extension": ".py",
   "mimetype": "text/x-python",
   "name": "python",
   "nbconvert_exporter": "python",
   "pygments_lexer": "ipython2",
   "version": "2.7.6"
  }
 },
 "nbformat": 4,
 "nbformat_minor": 0
}
